{
 "cells": [
  {
   "cell_type": "code",
   "execution_count": 2,
   "id": "4edb031b",
   "metadata": {},
   "outputs": [],
   "source": [
    "import numpy as np"
   ]
  },
  {
   "cell_type": "markdown",
   "id": "69b40af8",
   "metadata": {},
   "source": [
    "# Fourier-Motzkin elimination algorithm\n",
    "\n",
    "Suppose we are given constraints of the form \n",
    "$$ \\sum \\limits_{j=1}^n a_{ij} x_j \\ge b_i $$ for variables $x_1, \\dots, x_n$ and $ j \\in J $. Our goal is to reduce the number of variables to 1."
   ]
  },
  {
   "cell_type": "code",
   "execution_count": 51,
   "id": "5773aea4",
   "metadata": {},
   "outputs": [],
   "source": [
    "class linear_prog:\n",
    "    def print(self):\n",
    "        for row in self.LHS:\n",
    "            for i in range(len(row) - 1):\n",
    "                print (str(row[i]) + '*x_' + str(i + 1), end = ' + ')\n",
    "            print (str(row[-1]) + '*x_' + str(len(row)), end = ' <= ')\n",
    "            print (self.RHS[self.LHS.index(row)])\n",
    "    \n",
    "    def __init__(self, LHS: np.array, RHS: np.array):\n",
    "        if len(LHS) != len(RHS):\n",
    "            # improve the type check here\n",
    "            print (\"Error: Number of rows of A (LHS) does not match the number of rows of b (RHS).\")\n",
    "            return\n",
    "        self.LHS = LHS              # matrix A of size m x n\n",
    "        self.RHS = RHS              # vector b of length n\n",
    "        self.num_eq = len(LHS)      # number of equations\n",
    "        self.num_var = len(LHS[0])  # number of variables\n",
    "        \n",
    "        print (\"Initiated the following linear programming problem with\", self.num_var, \"variables and\", self.num_eq, \"equations \\n\")\n",
    "        self.print()\n",
    "    "
   ]
  },
  {
   "cell_type": "code",
   "execution_count": 60,
   "id": "2b906c09",
   "metadata": {},
   "outputs": [
    {
     "name": "stdout",
     "output_type": "stream",
     "text": [
      "Initiated the following linear programming problem with 2 variables and 3 equations \n",
      "\n",
      "1*x_1 + 3*x_2 <= 1\n",
      "2*x_1 + -4*x_2 <= 2\n",
      "3*x_1 + 0*x_2 <= 3\n"
     ]
    }
   ],
   "source": [
    "l1 = linear_prog ([[1, 3], [2, -4], [3, 0]],[1, 2, 3])"
   ]
  },
  {
   "cell_type": "code",
   "execution_count": 61,
   "id": "5aa0b97c",
   "metadata": {},
   "outputs": [
    {
     "name": "stdout",
     "output_type": "stream",
     "text": [
      "1*x_1 + 3*x_2 <= 1\n",
      "2*x_1 + -4*x_2 <= 2\n",
      "3*x_1 + 0*x_2 <= 3\n"
     ]
    }
   ],
   "source": [
    "l1.print()"
   ]
  },
  {
   "cell_type": "code",
   "execution_count": 66,
   "id": "cdb2c453",
   "metadata": {},
   "outputs": [],
   "source": [
    "class linear_prog_algo: \n",
    "    def fourier_motzkin_step (self, lp: linear_prog, n: int):\n",
    "        print(\"Eliminating variable x_\" + str(n))\n",
    "        \n",
    "        null_coeff = []\n",
    "        pos_coeff = []\n",
    "        neg_coeff = []\n",
    "        \n",
    "        for coeff in lp.LHS[n-1]:\n",
    "            if (coeff == 0):\n",
    "                null_coeff.append(coeff)\n",
    "            elif (coeff > 0):\n",
    "                pos_coeff.append(coeff)\n",
    "            else:\n",
    "                neg_coeff.append(coeff)\n",
    "            \n",
    "        print (\"Rows with null coefficients:\")\n",
    "        \n",
    "        \n",
    "    def fourier_motzkin (self, lp: linear_prog):\n",
    "        print(\"Received the following linear_program: \")\n",
    "        lp.print()\n",
    "        \n",
    "        self.fourier_motzkin_step(lp, lp.num_var)"
   ]
  },
  {
   "cell_type": "code",
   "execution_count": 67,
   "id": "078777c1",
   "metadata": {},
   "outputs": [
    {
     "name": "stdout",
     "output_type": "stream",
     "text": [
      "Received the following linear_program: \n",
      "1*x_1 + 3*x_2 <= 1\n",
      "2*x_1 + -4*x_2 <= 2\n",
      "3*x_1 + 0*x_2 <= 3\n",
      "Eliminating variable x_2\n",
      "Rows with 0 coefficients:\n"
     ]
    }
   ],
   "source": [
    "alg = linear_prog_algo()\n",
    "alg.fourier_motzkin(lp = l1)"
   ]
  },
  {
   "cell_type": "code",
   "execution_count": null,
   "id": "6a0a361d",
   "metadata": {},
   "outputs": [],
   "source": []
  },
  {
   "cell_type": "markdown",
   "id": "112462d8",
   "metadata": {},
   "source": [
    "print(l1)"
   ]
  }
 ],
 "metadata": {
  "kernelspec": {
   "display_name": "Python 3",
   "language": "python",
   "name": "python3"
  },
  "language_info": {
   "codemirror_mode": {
    "name": "ipython",
    "version": 3
   },
   "file_extension": ".py",
   "mimetype": "text/x-python",
   "name": "python",
   "nbconvert_exporter": "python",
   "pygments_lexer": "ipython3",
   "version": "3.8.5"
  }
 },
 "nbformat": 4,
 "nbformat_minor": 5
}
