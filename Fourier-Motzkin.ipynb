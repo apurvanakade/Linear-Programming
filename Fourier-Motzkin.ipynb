{
 "cells": [
  {
   "cell_type": "code",
   "execution_count": 8,
   "id": "4edb031b",
   "metadata": {},
   "outputs": [],
   "source": [
    "import numpy as np"
   ]
  },
  {
   "cell_type": "markdown",
   "id": "69b40af8",
   "metadata": {},
   "source": [
    "# Fourier-Motzkin elimination algorithm\n",
    "\n",
    "Suppose we are given constraints of the form \n",
    "$$ \\sum \\limits_{j=1}^n a_{ij} x_j \\ge b_i $$ for variables $x_1, \\dots, x_n$ and $ j \\in J $. Our goal is to reduce the number of variables to 1."
   ]
  },
  {
   "cell_type": "code",
   "execution_count": 76,
   "id": "5773aea4",
   "metadata": {},
   "outputs": [],
   "source": [
    "class linear_prog:\n",
    "    def __init__(self, LHS: np.array, RHS: np.array):\n",
    "        if len(LHS) != len(RHS):\n",
    "            # improve the type check here\n",
    "            print (\"Error: Number of rows of A (LHS) does not match the number of rows of b (RHS).\")\n",
    "            return\n",
    "        self.LHS = LHS              # matrix A of size n x m \n",
    "        self.RHS = RHS              # vector b of length n\n",
    "        self.num_eq = len(LHS)      # number of equations\n",
    "        self.num_var = len(LHS[0])  # number of variables\n",
    "        \n",
    "        print (\"Initiated the following linear programming problem with\", self.num_var, \"variables and\", self.num_eq, \"equations \\n\")\n",
    "        for row in LHS:\n",
    "            for i in range(len(row) - 1):\n",
    "                print (str(row[i]) + '*x_' + str(i + 1), end = ' + ')\n",
    "            print (str(row[-1]) + '*x_' + str(len(row)), end = ' <= ')\n",
    "            print (RHS[LHS.index(row)])"
   ]
  },
  {
   "cell_type": "code",
   "execution_count": 77,
   "id": "2b906c09",
   "metadata": {},
   "outputs": [
    {
     "name": "stdout",
     "output_type": "stream",
     "text": [
      "Initiated the following linear programming problem with 2 variables and 2 equations \n",
      "\n",
      "1*x_1 + 3*x_2 <= 1\n",
      "2*x_1 + 4*x_2 <= 2\n"
     ]
    }
   ],
   "source": [
    "l1 = linear_prog ([[1, 3], [2, 4]],[1, 2])"
   ]
  },
  {
   "cell_type": "markdown",
   "id": "112462d8",
   "metadata": {},
   "source": [
    "## Step 1\n",
    "\n",
    "The firt step \n"
   ]
  },
  {
   "cell_type": "code",
   "execution_count": 29,
   "id": "5aa0b97c",
   "metadata": {},
   "outputs": [
    {
     "name": "stdout",
     "output_type": "stream",
     "text": [
      "[[1], [2]]\n"
     ]
    }
   ],
   "source": [
    "print(l1.LHS)"
   ]
  },
  {
   "cell_type": "code",
   "execution_count": null,
   "id": "cdb2c453",
   "metadata": {},
   "outputs": [],
   "source": []
  }
 ],
 "metadata": {
  "kernelspec": {
   "display_name": "Python 3",
   "language": "python",
   "name": "python3"
  },
  "language_info": {
   "codemirror_mode": {
    "name": "ipython",
    "version": 3
   },
   "file_extension": ".py",
   "mimetype": "text/x-python",
   "name": "python",
   "nbconvert_exporter": "python",
   "pygments_lexer": "ipython3",
   "version": "3.8.5"
  }
 },
 "nbformat": 4,
 "nbformat_minor": 5
}
